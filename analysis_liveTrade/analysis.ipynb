{
 "cells": [
  {
   "cell_type": "code",
   "execution_count": 1,
   "id": "9486f1cc",
   "metadata": {},
   "outputs": [],
   "source": [
    "import pandas as pd\n",
    "from utilities import (Data, Source)\n",
    "from data_definition import ( sources,\n",
    "                              clean_preprocessing,\n",
    "                            )\n",
    "import datetime\n",
    "data=Data(**sources)\n",
    "df=pd.read_json(data.get('test').reader())    \n",
    "df = clean_preprocessing(df)\n",
    "df=df.set_index('timestamp')\n",
    "\n",
    "def set_timezone(date,**kwargs):\n",
    "    #setting time at midnight start of the day i.e 00:00 hrs\n",
    "    date=datetime.datetime.combine(date,datetime.time(0,0))\n",
    "    tz=datetime.timezone(datetime.timedelta(hours=5,minutes=30))\n",
    "    if kwargs.get('tz_choice',None) =='in':\n",
    "        tz=pytz.timezone(pytz.country_timezones('in')[0])\n",
    "        return tz.localize(date)\n",
    "    return date.replace(tzinfo=tz)    \n",
    "\n",
    "def get_date_range(initial,end=None,**kwargs):\n",
    "    #initial date should be in iso format.\n",
    "    #write a check for conformance of string to iso-format\n",
    "    start=datetime.date.fromisoformat(initial)\n",
    "    if end :\n",
    "        end=datetime.date.fromisoformat(end)\n",
    "        return start,end\n",
    "    return start, start+datetime.timedelta(days=kwargs.get('gap',1))\n",
    "\n",
    "def get_range_slots(initial,gap=1,n_period=1,**kwargs):\n",
    "    for i in range(0,n_period):\n",
    "        start , end= get_date_range(initial,gap=gap,)\n",
    "        if kwargs.get('tz',None):\n",
    "            yield set_timezone(start,**kwargs),set_timezone(end,**kwargs) \n",
    "        else:\n",
    "            yield start,end \n",
    "        initial=end.isoformat() "
   ]
  },
  {
   "cell_type": "code",
   "execution_count": 15,
   "id": "70e48801",
   "metadata": {},
   "outputs": [],
   "source": [
    "date_focus='2021-04-22'\n",
    "tz=datetime.timezone(datetime.timedelta(hours=5,minutes=30))"
   ]
  },
  {
   "cell_type": "code",
   "execution_count": 5,
   "id": "e379312f",
   "metadata": {},
   "outputs": [],
   "source": [
    "start, end=next(get_range_slots(date_focus,tz=True))\n",
    "df_range=df[start:end]"
   ]
  },
  {
   "cell_type": "code",
   "execution_count": 20,
   "id": "d41596a8",
   "metadata": {},
   "outputs": [],
   "source": [
    "t1=datetime.datetime.combine(start,datetime.time(hour=10,minute=0,second=0))\n",
    "t1=t1.replace(tzinfo=tz)\n",
    "t2=t1+datetime.timedelta(hours=1,minutes=0,seconds=0)"
   ]
  },
  {
   "cell_type": "code",
   "execution_count": 28,
   "id": "c6056776",
   "metadata": {},
   "outputs": [
    {
     "data": {
      "text/html": [
       "<div>\n",
       "<style scoped>\n",
       "    .dataframe tbody tr th:only-of-type {\n",
       "        vertical-align: middle;\n",
       "    }\n",
       "\n",
       "    .dataframe tbody tr th {\n",
       "        vertical-align: top;\n",
       "    }\n",
       "\n",
       "    .dataframe thead th {\n",
       "        text-align: right;\n",
       "    }\n",
       "</style>\n",
       "<table border=\"1\" class=\"dataframe\">\n",
       "  <thead>\n",
       "    <tr style=\"text-align: right;\">\n",
       "      <th></th>\n",
       "      <th>open</th>\n",
       "      <th>high</th>\n",
       "      <th>low</th>\n",
       "      <th>close</th>\n",
       "      <th>volume</th>\n",
       "      <th>not-applicable</th>\n",
       "    </tr>\n",
       "    <tr>\n",
       "      <th>timestamp</th>\n",
       "      <th></th>\n",
       "      <th></th>\n",
       "      <th></th>\n",
       "      <th></th>\n",
       "      <th></th>\n",
       "      <th></th>\n",
       "    </tr>\n",
       "  </thead>\n",
       "  <tbody>\n",
       "    <tr>\n",
       "      <th>2021-04-22 10:00:00+05:30</th>\n",
       "      <td>2338.20</td>\n",
       "      <td>2338.20</td>\n",
       "      <td>2335.20</td>\n",
       "      <td>2336.10</td>\n",
       "      <td>6169</td>\n",
       "      <td>0</td>\n",
       "    </tr>\n",
       "    <tr>\n",
       "      <th>2021-04-22 10:01:00+05:30</th>\n",
       "      <td>2336.25</td>\n",
       "      <td>2338.25</td>\n",
       "      <td>2335.20</td>\n",
       "      <td>2338.25</td>\n",
       "      <td>7370</td>\n",
       "      <td>0</td>\n",
       "    </tr>\n",
       "    <tr>\n",
       "      <th>2021-04-22 10:02:00+05:30</th>\n",
       "      <td>2338.25</td>\n",
       "      <td>2339.95</td>\n",
       "      <td>2337.25</td>\n",
       "      <td>2338.00</td>\n",
       "      <td>4538</td>\n",
       "      <td>0</td>\n",
       "    </tr>\n",
       "    <tr>\n",
       "      <th>2021-04-22 10:03:00+05:30</th>\n",
       "      <td>2338.00</td>\n",
       "      <td>2338.00</td>\n",
       "      <td>2335.00</td>\n",
       "      <td>2335.50</td>\n",
       "      <td>6839</td>\n",
       "      <td>0</td>\n",
       "    </tr>\n",
       "    <tr>\n",
       "      <th>2021-04-22 10:04:00+05:30</th>\n",
       "      <td>2336.25</td>\n",
       "      <td>2338.00</td>\n",
       "      <td>2335.40</td>\n",
       "      <td>2336.80</td>\n",
       "      <td>3641</td>\n",
       "      <td>0</td>\n",
       "    </tr>\n",
       "  </tbody>\n",
       "</table>\n",
       "</div>"
      ],
      "text/plain": [
       "                              open     high      low    close  volume  \\\n",
       "timestamp                                                               \n",
       "2021-04-22 10:00:00+05:30  2338.20  2338.20  2335.20  2336.10    6169   \n",
       "2021-04-22 10:01:00+05:30  2336.25  2338.25  2335.20  2338.25    7370   \n",
       "2021-04-22 10:02:00+05:30  2338.25  2339.95  2337.25  2338.00    4538   \n",
       "2021-04-22 10:03:00+05:30  2338.00  2338.00  2335.00  2335.50    6839   \n",
       "2021-04-22 10:04:00+05:30  2336.25  2338.00  2335.40  2336.80    3641   \n",
       "\n",
       "                           not-applicable  \n",
       "timestamp                                  \n",
       "2021-04-22 10:00:00+05:30               0  \n",
       "2021-04-22 10:01:00+05:30               0  \n",
       "2021-04-22 10:02:00+05:30               0  \n",
       "2021-04-22 10:03:00+05:30               0  \n",
       "2021-04-22 10:04:00+05:30               0  "
      ]
     },
     "execution_count": 28,
     "metadata": {},
     "output_type": "execute_result"
    }
   ],
   "source": [
    "df_range[t1:t2].head()"
   ]
  },
  {
   "cell_type": "code",
   "execution_count": 30,
   "id": "9448206d",
   "metadata": {},
   "outputs": [],
   "source": [
    "dat=df_range[t1:t2]"
   ]
  },
  {
   "cell_type": "code",
   "execution_count": 40,
   "id": "4752a1c7",
   "metadata": {},
   "outputs": [
    {
     "data": {
      "text/plain": [
       "timestamp\n",
       "2021-04-22 10:00:00+05:30     NaN\n",
       "2021-04-22 10:01:00+05:30    0.05\n",
       "2021-04-22 10:02:00+05:30    1.70\n",
       "2021-04-22 10:03:00+05:30   -1.95\n",
       "2021-04-22 10:04:00+05:30    0.00\n",
       "                             ... \n",
       "2021-04-22 10:56:00+05:30    0.00\n",
       "2021-04-22 10:57:00+05:30   -0.95\n",
       "2021-04-22 10:58:00+05:30    0.75\n",
       "2021-04-22 10:59:00+05:30   -0.65\n",
       "2021-04-22 11:00:00+05:30    0.25\n",
       "Name: high, Length: 61, dtype: float64"
      ]
     },
     "execution_count": 40,
     "metadata": {},
     "output_type": "execute_result"
    }
   ],
   "source": [
    "dat['high']-dat['high'].shift()"
   ]
  },
  {
   "cell_type": "code",
   "execution_count": 56,
   "id": "9f8d2f61",
   "metadata": {},
   "outputs": [],
   "source": [
    "class Predictor:\n",
    "    def __init__(self,**kwargs):\n",
    "        self.data=kwargs.get('data',None)\n",
    "        self.op_cycle=kwargs.get('op_cycle',datetime.timedelta(minutes=5))\n",
    "    def nextVal(self):\n",
    "        pass"
   ]
  },
  {
   "cell_type": "code",
   "execution_count": 57,
   "id": "346782f5",
   "metadata": {},
   "outputs": [],
   "source": [
    "testCase=Predictor(data=dat)"
   ]
  },
  {
   "cell_type": "code",
   "execution_count": 58,
   "id": "99eca3ee",
   "metadata": {},
   "outputs": [
    {
     "data": {
      "text/plain": [
       "datetime.timedelta(seconds=300)"
      ]
     },
     "execution_count": 58,
     "metadata": {},
     "output_type": "execute_result"
    }
   ],
   "source": [
    "testCase."
   ]
  },
  {
   "cell_type": "code",
   "execution_count": null,
   "id": "a9cceaee",
   "metadata": {},
   "outputs": [],
   "source": []
  }
 ],
 "metadata": {
  "kernelspec": {
   "display_name": "Python 3 (ipykernel)",
   "language": "python",
   "name": "python3"
  },
  "language_info": {
   "codemirror_mode": {
    "name": "ipython",
    "version": 3
   },
   "file_extension": ".py",
   "mimetype": "text/x-python",
   "name": "python",
   "nbconvert_exporter": "python",
   "pygments_lexer": "ipython3",
   "version": "3.8.9"
  }
 },
 "nbformat": 4,
 "nbformat_minor": 5
}
