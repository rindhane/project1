{
 "cells": [
  {
   "cell_type": "markdown",
   "metadata": {
    "colab_type": "text",
    "id": "aRDUGd13kUFu"
   },
   "source": [
    "## To select the suitable call options value of stocks on Derivatives market on BSE Market \n",
    "\n",
    "> Using stochastic methods to find the suitable derivative for purchase.\n",
    "\n",
    "*   List item\n",
    "*   List item\n",
    "\n",
    "\n",
    "\n",
    "\n",
    "\n",
    "Following steps are carried out to find the resules:\n",
    "* Scraping historical data of stock prices listed on BSE stock exchange website.\n",
    "* creating consolidated database for analysis\n",
    "* Using Black-Scholes formulation to find the values.\n",
    "* Comparing results with call options to choose the suitable call value for purchase "
   ]
  },
  {
   "cell_type": "code",
   "execution_count": 0,
   "metadata": {
    "colab": {},
    "colab_type": "code",
    "id": "M84t5HyiYfGZ"
   },
   "outputs": [],
   "source": [
    "#import statements \n",
    "from google.colab import drive"
   ]
  },
  {
   "cell_type": "markdown",
   "metadata": {
    "colab_type": "text",
    "id": "qTXOGdaz4wy0"
   },
   "source": [
    "# Richer syntax highlighting\n",
    "\n",
    "Improved support for nested languages:\n",
    "\n",
    "```notebook-python\n",
    "df = pd.io.gbq.read_gbq('''\n",
    "  SELECT \n",
    "    REGEXP_EXTRACT(name, '[a-zA-Z]+'),\n",
    "    SUM(number) as count\n",
    "  FROM `bigquery-public-data.usa_names.usa_1910_2013`\n",
    "  WHERE state = 'TX'\n",
    "  GROUP BY name\n",
    "  ORDER BY count DESC\n",
    "  LIMIT 100\n",
    "''')\n",
    "```"
   ]
  },
  {
   "cell_type": "code",
   "execution_count": 0,
   "metadata": {
    "colab": {},
    "colab_type": "code",
    "id": "04mXUkldaD4o"
   },
   "outputs": [],
   "source": [
    "from google.colab import drive as drv"
   ]
  },
  {
   "cell_type": "code",
   "execution_count": 8,
   "metadata": {
    "colab": {
     "base_uri": "https://localhost:8080/",
     "height": 55
    },
    "colab_type": "code",
    "executionInfo": {
     "elapsed": 975,
     "status": "ok",
     "timestamp": 1575421050836,
     "user": {
      "displayName": "Rahul Indhane",
      "photoUrl": "",
      "userId": "01274925395891260217"
     },
     "user_tz": -330
    },
    "id": "uNvwJV7nYPnE",
    "outputId": "57b0013c-d1a3-4ded-cc46-79386587e8dd"
   },
   "outputs": [
    {
     "name": "stdout",
     "output_type": "stream",
     "text": [
      "Drive already mounted at /content/adrive; to attempt to forcibly remount, call drive.mount(\"/content/adrive\", force_remount=True).\n"
     ]
    }
   ],
   "source": [
    "#connecting drive space to colab notebook\n",
    "drive.mount(\"/content/adrive\")"
   ]
  },
  {
   "cell_type": "code",
   "execution_count": 0,
   "metadata": {
    "colab": {
     "base_uri": "https://localhost:8080/",
     "height": 35
    },
    "colab_type": "code",
    "executionInfo": {
     "elapsed": 3369,
     "status": "ok",
     "timestamp": 1575336578197,
     "user": {
      "displayName": "Rahul Indhane",
      "photoUrl": "",
      "userId": "01274925395891260217"
     },
     "user_tz": -330
    },
    "id": "Uif0XTmxX5hx",
    "outputId": "02014721-3c37-460a-d15c-63e31b8571d6"
   },
   "outputs": [
    {
     "name": "stdout",
     "output_type": "stream",
     "text": [
      "hello\n"
     ]
    }
   ],
   "source": [
    "print(\"hello\")"
   ]
  },
  {
   "cell_type": "code",
   "execution_count": 0,
   "metadata": {
    "colab": {},
    "colab_type": "code",
    "id": "6fAcisLwkHhQ"
   },
   "outputs": [],
   "source": [
    "%pycat /content/sample_data/README.md"
   ]
  },
  {
   "cell_type": "markdown",
   "metadata": {
    "colab_type": "text",
    "id": "5yUwIP5wYgV7"
   },
   "source": [
    "#References: \n",
    "1. https://economictimes.indiatimes.com/markets/stocks/news/what-are-call-put-options/articleshow/67827639.cms\n",
    "2. https://www.investopedia.com/terms/b/blackscholes.asp"
   ]
  },
  {
   "cell_type": "code",
   "execution_count": 0,
   "metadata": {
    "colab": {},
    "colab_type": "code",
    "id": "KGd_thVpl3rV"
   },
   "outputs": [],
   "source": []
  }
 ],
 "metadata": {
  "colab": {
   "collapsed_sections": [],
   "name": "Derivative Analysis",
   "provenance": [
    {
     "file_id": "/v2/external/notebooks/editor_details.ipynb",
     "timestamp": 1568099268760
    }
   ],
   "toc_visible": true
  },
  "kernelspec": {
   "display_name": "Python 3",
   "language": "python",
   "name": "python3"
  },
  "language_info": {
   "codemirror_mode": {
    "name": "ipython",
    "version": 3
   },
   "file_extension": ".py",
   "mimetype": "text/x-python",
   "name": "python",
   "nbconvert_exporter": "python",
   "pygments_lexer": "ipython3",
   "version": "3.7.5"
  }
 },
 "nbformat": 4,
 "nbformat_minor": 1
}
